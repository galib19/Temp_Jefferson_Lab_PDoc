{
  "cells": [
    {
      "cell_type": "code",
      "execution_count": 1,
      "metadata": {
        "id": "NBb2sgUgoai8"
      },
      "outputs": [],
      "source": [
        "import torch\n",
        "import torch.nn as nn\n",
        "import torch.optim as optim\n",
        "import torch.nn.functional as F\n",
        "import copy\n",
        "from collections import namedtuple, deque\n",
        "import gym\n",
        "import random\n",
        "import torch\n",
        "import numpy as np\n",
        "from collections import deque\n",
        "import matplotlib.pyplot as plt\n",
        "%matplotlib inline"
      ]
    },
    {
      "cell_type": "code",
      "execution_count": 2,
      "metadata": {
        "colab": {
          "base_uri": "https://localhost:8080/"
        },
        "id": "OtMWUVz80zuk",
        "outputId": "d0e5bcdb-5488-436c-b83d-b0a0bf17a01b"
      },
      "outputs": [
        {
          "output_type": "execute_result",
          "data": {
            "text/plain": [
              "device(type='cpu')"
            ]
          },
          "metadata": {},
          "execution_count": 2
        }
      ],
      "source": [
        "device = torch.device(\"cuda:0\" if torch.cuda.is_available() else \"cpu\")\n",
        "device"
      ]
    },
    {
      "cell_type": "code",
      "execution_count": 12,
      "metadata": {
        "id": "c7U3qcadpGAV",
        "colab": {
          "base_uri": "https://localhost:8080/"
        },
        "outputId": "36a02e39-64a1-43c6-a624-6db5a6c10213"
      },
      "outputs": [
        {
          "output_type": "stream",
          "name": "stderr",
          "text": [
            "/usr/local/lib/python3.10/dist-packages/ipykernel/ipkernel.py:283: DeprecationWarning: `should_run_async` will not call `transform_cell` automatically in the future. Please pass the result to `transformed_cell` argument and any exception that happen during thetransform in `preprocessing_exc_tuple` in IPython 7.17 and above.\n",
            "  and should_run_async(code)\n"
          ]
        }
      ],
      "source": [
        "class PolicyNetwork(nn.Module):\n",
        "    def __init__(self, state_dim, action_dim, seed, n_hidden_1=256, n_hidden_2=128):\n",
        "        super(PolicyNetwork, self).__init__()\n",
        "        self.seed = torch.manual_seed(seed)\n",
        "        self.fc1 = nn.Linear(state_dim, n_hidden_1)\n",
        "        self.fc2 = nn.Linear(n_hidden_1, n_hidden_2)\n",
        "        self.fc3 = nn.Linear(n_hidden_2, action_dim)\n",
        "\n",
        "    def forward(self, state):\n",
        "        x = F.relu(self.fc1(state))\n",
        "        x = F.relu(self.fc2(x))\n",
        "        return 2*torch.tanh(self.fc3(x))\n",
        "\n",
        "\n",
        "class QNetwork(nn.Module):\n",
        "\n",
        "    def __init__(self, state_dim, action_dim, seed, n_hidden_1=256, n_hidden_2=128):\n",
        "        super(QNetwork, self).__init__()\n",
        "        self.seed = torch.manual_seed(seed)\n",
        "        self.fcs1 = nn.Linear(state_dim, n_hidden_1)\n",
        "        self.fc2 = nn.Linear(n_hidden_1+action_dim, n_hidden_2)\n",
        "        self.fc3 = nn.Linear(n_hidden_2, 1)\n",
        "\n",
        "    def forward(self, state, action):\n",
        "        xs = F.relu(self.fcs1(state))\n",
        "        x = torch.cat((xs, action), dim=1)\n",
        "        x = F.relu(self.fc2(x))\n",
        "        return self.fc3(x)"
      ]
    },
    {
      "cell_type": "code",
      "execution_count": 15,
      "metadata": {
        "id": "pP3SHogIo1hu"
      },
      "outputs": [],
      "source": [
        "BUFFER_SIZE = 10000\n",
        "BATCH_SIZE = 128\n",
        "GAMMA = 0.99\n",
        "TAU = 0.001\n",
        "LR_ACTOR = 0.001\n",
        "LR_CRITIC = 0.01\n",
        "WEIGHT_DECAY = 0\n",
        "\n",
        "\n",
        "class DDPG():\n",
        "    def __init__(self, state_size, action_size, random_seed):\n",
        "\n",
        "        self.state_size = state_size\n",
        "        self.action_size = action_size\n",
        "        self.seed = random.seed(random_seed)\n",
        "\n",
        "        self.actor_local = PolicyNetwork(state_size, action_size, random_seed).to(device)\n",
        "        self.actor_target = PolicyNetwork(state_size, action_size, random_seed).to(device)\n",
        "        self.actor_optimizer = optim.Adam(self.actor_local.parameters(), lr=LR_ACTOR)\n",
        "\n",
        "        self.critic_local = QNetwork(state_size, action_size, random_seed).to(device)\n",
        "        self.critic_target = QNetwork(state_size, action_size, random_seed).to(device)\n",
        "        self.critic_optimizer = optim.Adam(self.critic_local.parameters(), lr=LR_CRITIC, weight_decay=WEIGHT_DECAY)\n",
        "\n",
        "        self.noise = OUNoise(action_size, random_seed)\n",
        "\n",
        "        self.memory = ReplayBuffer(action_size, BUFFER_SIZE, BATCH_SIZE, random_seed)\n",
        "\n",
        "    def execute_action(self, state, action, reward, next_state, done):\n",
        "        self.memory.add(state, action, reward, next_state, done)\n",
        "        if len(self.memory) > BATCH_SIZE:\n",
        "            experiences = self.memory.sample()\n",
        "            self.update_q_function_and_policy(experiences, GAMMA)\n",
        "\n",
        "    def get_action(self, state, add_noise=True):\n",
        "        state = torch.from_numpy(state).float().to(device)\n",
        "        self.actor_local.eval()\n",
        "        with torch.no_grad():\n",
        "            action = self.actor_local(state).cpu().data.numpy()\n",
        "        self.actor_local.train()\n",
        "        if add_noise:\n",
        "            action += self.noise.sample()\n",
        "        return np.clip(action, -2, 2)\n",
        "\n",
        "    def reset(self):\n",
        "        self.noise.reset()\n",
        "\n",
        "    def update_q_function_and_policy(self, experiences, gamma):\n",
        "        states, actions, rewards, next_states, dones = experiences\n",
        "\n",
        "        #updating Q-function\n",
        "        actions_next = self.actor_target(next_states)\n",
        "        Q_targets_next = self.critic_target(next_states, actions_next)\n",
        "        Q_targets = rewards + (gamma * Q_targets_next * (1 - dones))\n",
        "        Q_expected = self.critic_local(states, actions)\n",
        "        critic_loss = F.mse_loss(Q_expected, Q_targets)\n",
        "        self.critic_optimizer.zero_grad()\n",
        "        critic_loss.backward()\n",
        "        self.critic_optimizer.step()\n",
        "\n",
        "        #updating policy\n",
        "        actions_pred = self.actor_local(states)\n",
        "        actor_loss = -self.critic_local(states, actions_pred).mean()\n",
        "        self.actor_optimizer.zero_grad()\n",
        "        actor_loss.backward()\n",
        "        self.actor_optimizer.step()\n",
        "\n",
        "        self.update_target_networks(self.critic_local, self.critic_target, TAU)\n",
        "        self.update_target_networks(self.actor_local, self.actor_target, TAU)\n",
        "\n",
        "    def update_target_networks(self, local_model, target_model, tau):\n",
        "        for target_param, local_param in zip(target_model.parameters(), local_model.parameters()):\n",
        "            target_param.data.copy_(tau*local_param.data + (1.0-tau)*target_param.data)\n",
        "\n",
        "class OUNoise:\n",
        "    def __init__(self, size, seed, mu=0., theta=0.15, sigma=0.2):\n",
        "        self.mu = mu * np.ones(size)\n",
        "        self.theta = theta\n",
        "        self.sigma = sigma\n",
        "        self.seed = random.seed(seed)\n",
        "        self.reset()\n",
        "\n",
        "    def reset(self):\n",
        "        self.state = copy.copy(self.mu)\n",
        "\n",
        "    def sample(self):\n",
        "        x = self.state\n",
        "        dx = self.theta * (self.mu - x) + self.sigma * np.array([random.random() for i in range(len(x))])\n",
        "        self.state = x + dx\n",
        "        return self.state\n",
        "\n",
        "class ReplayBuffer:\n",
        "    def __init__(self, action_size, buffer_size, batch_size, seed):\n",
        "        self.action_size = action_size\n",
        "        self.memory = deque(maxlen=buffer_size)  # internal memory (deque)\n",
        "        self.batch_size = batch_size\n",
        "        self.experience = namedtuple(\"Experience\", field_names=[\"state\", \"action\", \"reward\", \"next_state\", \"done\"])\n",
        "        self.seed = random.seed(seed)\n",
        "\n",
        "    def add(self, state, action, reward, next_state, done):\n",
        "        e = self.experience(state, action, reward, next_state, done)\n",
        "        self.memory.append(e)\n",
        "\n",
        "    def sample(self):\n",
        "        experiences = random.sample(self.memory, k=self.batch_size)\n",
        "\n",
        "        states = torch.from_numpy(np.vstack([e.state for e in experiences if e is not None])).float().to(device)\n",
        "        actions = torch.from_numpy(np.vstack([e.action for e in experiences if e is not None])).float().to(device)\n",
        "        rewards = torch.from_numpy(np.vstack([e.reward for e in experiences if e is not None])).float().to(device)\n",
        "        next_states = torch.from_numpy(np.vstack([e.next_state for e in experiences if e is not None])).float().to(device)\n",
        "        dones = torch.from_numpy(np.vstack([e.done for e in experiences if e is not None]).astype(np.uint8)).float().to(device)\n",
        "\n",
        "        return (states, actions, rewards, next_states, dones)\n",
        "\n",
        "    def __len__(self):\n",
        "        return len(self.memory)"
      ]
    },
    {
      "cell_type": "code",
      "execution_count": 16,
      "metadata": {
        "colab": {
          "base_uri": "https://localhost:8080/"
        },
        "id": "JZd35_UFoajB",
        "outputId": "8aaecddf-caa4-4f1a-f1d2-06e6ef31c6d5"
      },
      "outputs": [
        {
          "output_type": "stream",
          "name": "stdout",
          "text": [
            "State shape:  (3,)\n",
            "Action shape:  (1,)\n"
          ]
        }
      ],
      "source": [
        "env = gym.make('Pendulum-v1')\n",
        "env.seed(2)\n",
        "print('State shape: ', env.observation_space.shape)\n",
        "print('Action shape: ', env.action_space.shape)\n",
        "agent = DDPG(state_size=3, action_size=1, random_seed=0)"
      ]
    },
    {
      "cell_type": "code",
      "execution_count": 17,
      "metadata": {
        "colab": {
          "base_uri": "https://localhost:8080/"
        },
        "id": "PwtsmczjoajD",
        "outputId": "5e01819f-470f-4b65-dd01-b14f95dcc597"
      },
      "outputs": [
        {
          "output_type": "stream",
          "name": "stderr",
          "text": [
            "/usr/local/lib/python3.10/dist-packages/gym/utils/passive_env_checker.py:241: DeprecationWarning: `np.bool8` is a deprecated alias for `np.bool_`.  (Deprecated NumPy 1.24)\n",
            "  if not isinstance(terminated, (bool, np.bool8)):\n"
          ]
        },
        {
          "output_type": "stream",
          "name": "stdout",
          "text": [
            "Epoch 10/700: Reward (Mean of last 10 epochs) =  -1401.0114304609904\n",
            "Epoch 20/700: Reward (Mean of last 10 epochs) =  -1477.902473477591\n",
            "Epoch 30/700: Reward (Mean of last 10 epochs) =  -1312.0093308106746\n",
            "Epoch 40/700: Reward (Mean of last 10 epochs) =  -1252.245994020706\n",
            "Epoch 50/700: Reward (Mean of last 10 epochs) =  -1266.4325425040809\n",
            "Epoch 60/700: Reward (Mean of last 10 epochs) =  -887.1129771277647\n",
            "Epoch 70/700: Reward (Mean of last 10 epochs) =  -666.4442735803685\n",
            "Epoch 80/700: Reward (Mean of last 10 epochs) =  -669.3842915196246\n",
            "Epoch 90/700: Reward (Mean of last 10 epochs) =  -289.02942002929456\n",
            "Epoch 100/700: Reward (Mean of last 10 epochs) =  -484.20008612030495\n",
            "Epoch 110/700: Reward (Mean of last 10 epochs) =  -441.49909183329737\n",
            "Epoch 120/700: Reward (Mean of last 10 epochs) =  -405.44750338045736\n",
            "Epoch 130/700: Reward (Mean of last 10 epochs) =  -318.98203950518877\n",
            "Epoch 140/700: Reward (Mean of last 10 epochs) =  -378.53746244665206\n",
            "Epoch 150/700: Reward (Mean of last 10 epochs) =  -355.79008644307453\n",
            "Epoch 160/700: Reward (Mean of last 10 epochs) =  -140.66666982608336\n",
            "Epoch 170/700: Reward (Mean of last 10 epochs) =  -289.9765465661723\n",
            "Epoch 180/700: Reward (Mean of last 10 epochs) =  -314.67179234993307\n",
            "Epoch 190/700: Reward (Mean of last 10 epochs) =  -463.554608466166\n",
            "Epoch 200/700: Reward (Mean of last 10 epochs) =  -814.4995399872515\n",
            "Epoch 210/700: Reward (Mean of last 10 epochs) =  -395.746256805967\n",
            "Epoch 220/700: Reward (Mean of last 10 epochs) =  -475.9420176946581\n",
            "Epoch 230/700: Reward (Mean of last 10 epochs) =  -505.0216397310686\n",
            "Epoch 240/700: Reward (Mean of last 10 epochs) =  -546.5430362703055\n",
            "Epoch 250/700: Reward (Mean of last 10 epochs) =  -659.4149767187324\n",
            "Epoch 260/700: Reward (Mean of last 10 epochs) =  -649.7363472729769\n",
            "Epoch 270/700: Reward (Mean of last 10 epochs) =  -441.60026028300797\n",
            "Epoch 280/700: Reward (Mean of last 10 epochs) =  -301.0237946950079\n",
            "Epoch 290/700: Reward (Mean of last 10 epochs) =  -203.1772964621257\n",
            "Epoch 300/700: Reward (Mean of last 10 epochs) =  -214.48029513139764\n",
            "Epoch 310/700: Reward (Mean of last 10 epochs) =  -328.5567084001163\n",
            "Epoch 320/700: Reward (Mean of last 10 epochs) =  -408.47514653318603\n",
            "Epoch 330/700: Reward (Mean of last 10 epochs) =  -407.1103358105146\n",
            "Epoch 340/700: Reward (Mean of last 10 epochs) =  -351.81327302815765\n",
            "Epoch 350/700: Reward (Mean of last 10 epochs) =  -208.67851497963093\n",
            "Epoch 360/700: Reward (Mean of last 10 epochs) =  -188.37113557938096\n",
            "Epoch 370/700: Reward (Mean of last 10 epochs) =  -412.2046417893853\n",
            "Epoch 380/700: Reward (Mean of last 10 epochs) =  -474.1415306185501\n",
            "Epoch 390/700: Reward (Mean of last 10 epochs) =  -469.02179631647505\n",
            "Epoch 400/700: Reward (Mean of last 10 epochs) =  -550.4848639270001\n",
            "Epoch 410/700: Reward (Mean of last 10 epochs) =  -581.0955179605073\n",
            "Epoch 420/700: Reward (Mean of last 10 epochs) =  -274.9843312626721\n",
            "Epoch 430/700: Reward (Mean of last 10 epochs) =  -552.798797829884\n",
            "Epoch 440/700: Reward (Mean of last 10 epochs) =  -601.710156695239\n",
            "Epoch 450/700: Reward (Mean of last 10 epochs) =  -675.9540318034944\n",
            "Epoch 460/700: Reward (Mean of last 10 epochs) =  -623.7618825460561\n",
            "Epoch 470/700: Reward (Mean of last 10 epochs) =  -605.4461671496396\n",
            "Epoch 480/700: Reward (Mean of last 10 epochs) =  -315.66243724470434\n",
            "Epoch 490/700: Reward (Mean of last 10 epochs) =  -609.1086213652708\n",
            "Epoch 500/700: Reward (Mean of last 10 epochs) =  -903.6628717250676\n",
            "Epoch 510/700: Reward (Mean of last 10 epochs) =  -720.0689011227483\n",
            "Epoch 520/700: Reward (Mean of last 10 epochs) =  -821.3115695942612\n",
            "Epoch 530/700: Reward (Mean of last 10 epochs) =  -891.6501521854955\n",
            "Epoch 540/700: Reward (Mean of last 10 epochs) =  -681.1655087116538\n",
            "Epoch 550/700: Reward (Mean of last 10 epochs) =  -477.4191358049073\n",
            "Epoch 560/700: Reward (Mean of last 10 epochs) =  -182.04807738651385\n",
            "Epoch 570/700: Reward (Mean of last 10 epochs) =  -436.65536722488775\n",
            "Epoch 580/700: Reward (Mean of last 10 epochs) =  -607.5991170722991\n",
            "Epoch 590/700: Reward (Mean of last 10 epochs) =  -537.6175497129682\n",
            "Epoch 600/700: Reward (Mean of last 10 epochs) =  -173.85117444329572\n",
            "Epoch 610/700: Reward (Mean of last 10 epochs) =  -272.4822035352928\n",
            "Epoch 620/700: Reward (Mean of last 10 epochs) =  -278.5202121364415\n",
            "Epoch 630/700: Reward (Mean of last 10 epochs) =  -457.9571862573786\n",
            "Epoch 640/700: Reward (Mean of last 10 epochs) =  -529.5603955599121\n",
            "Epoch 650/700: Reward (Mean of last 10 epochs) =  -276.7244869322841\n",
            "Epoch 660/700: Reward (Mean of last 10 epochs) =  -235.08011424702585\n",
            "Epoch 670/700: Reward (Mean of last 10 epochs) =  -264.15889095734576\n",
            "Epoch 680/700: Reward (Mean of last 10 epochs) =  -712.9943351235202\n",
            "Epoch 690/700: Reward (Mean of last 10 epochs) =  -352.3368954236471\n",
            "Epoch 700/700: Reward (Mean of last 10 epochs) =  -227.23775023578574\n"
          ]
        }
      ],
      "source": [
        "n_epochs = 700\n",
        "rewards = []\n",
        "def train_ddpg():\n",
        "    for i in range(1, n_epochs+1):\n",
        "        state = env.reset()\n",
        "        agent.reset()\n",
        "        total_reward_in_epoch = 0\n",
        "        for j in range(300):\n",
        "            action = agent.get_action(state)\n",
        "            next_state, reward, done, _ = env.step(action)\n",
        "            agent.execute_action(state, action, reward, next_state, done)\n",
        "            state = next_state\n",
        "            total_reward_in_epoch += reward\n",
        "            if done:\n",
        "                break\n",
        "        rewards.append(total_reward_in_epoch)\n",
        "        if i % 10 == 0:\n",
        "            print(f\"Epoch {i}/{n_epochs}: Reward (Mean of last 10 epochs) =  {np.mean(rewards[-10:])}\")\n",
        "train_ddpg()"
      ]
    },
    {
      "cell_type": "code",
      "execution_count": 18,
      "metadata": {
        "colab": {
          "base_uri": "https://localhost:8080/",
          "height": 449
        },
        "id": "-PWc5mpz965X",
        "outputId": "6fef72c1-9ccd-442a-a9b1-0cd902323113"
      },
      "outputs": [
        {
          "output_type": "display_data",
          "data": {
            "text/plain": [
              "<Figure size 640x480 with 1 Axes>"
            ],
            "image/png": "[encoded data removed]"
          },
          "metadata": {}
        }
      ],
      "source": [
        "plt.plot(np.arange(1, len(rewards)+1), rewards)\n",
        "plt.ylabel('Reward')\n",
        "plt.xlabel('Epoch')\n",
        "plt.show()"
      ]
    },
    {
      "cell_type": "code",
      "source": [],
      "metadata": {
        "id": "BLK6ZoT9IDRN"
      },
      "execution_count": null,
      "outputs": []
    }
  ],
  "metadata": {
    "accelerator": "GPU",
    "colab": {
      "gpuType": "T4",
      "machine_shape": "hm",
      "provenance": []
    },
    "kernelspec": {
      "display_name": "Python 3",
      "name": "python3"
    },
    "language_info": {
      "codemirror_mode": {
        "name": "ipython",
        "version": 3
      },
      "file_extension": ".py",
      "mimetype": "text/x-python",
      "name": "python",
      "nbconvert_exporter": "python",
      "pygments_lexer": "ipython3",
      "version": "3.6.4"
    }
  },
  "nbformat": 4,
  "nbformat_minor": 0
}
